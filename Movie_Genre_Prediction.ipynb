{
  "nbformat": 4,
  "nbformat_minor": 0,
  "metadata": {
    "colab": {
      "provenance": [],
      "collapsed_sections": [
        "oRaXNl_POIP_",
        "BPtzzQlQD4VQ",
        "FzTsg7Fu_o29",
        "SwdKwjoy_jqZ",
        "pYag3b3falnq",
        "FJpW3ciMd_xJ",
        "NN7iC0gwelB6",
        "v67uwWBdfmWX"
      ],
      "include_colab_link": true
    },
    "kernelspec": {
      "name": "python3",
      "display_name": "Python 3"
    },
    "language_info": {
      "name": "python"
    },
    "accelerator": "GPU"
  },
  "cells": [
    {
      "cell_type": "markdown",
      "metadata": {
        "id": "view-in-github",
        "colab_type": "text"
      },
      "source": [
        "<a href=\"https://colab.research.google.com/github/emadaghajanzadeh/Movie-Genre-Prediction/blob/main/Movie_Genre_Prediction.ipynb\" target=\"_parent\"><img src=\"https://colab.research.google.com/assets/colab-badge.svg\" alt=\"Open In Colab\"/></a>"
      ]
    },
    {
      "cell_type": "markdown",
      "metadata": {
        "id": "Nx2psCpW7ijJ"
      },
      "source": [
        "#Import Libraries\n"
      ]
    },
    {
      "cell_type": "code",
      "metadata": {
        "id": "U2yOMjMPyBv3",
        "colab": {
          "base_uri": "https://localhost:8080/"
        },
        "outputId": "6c0bc2e4-9a91-4ce6-d64d-04829f1e7ca4"
      },
      "source": [
        "!nvidia-smi"
      ],
      "execution_count": null,
      "outputs": [
        {
          "output_type": "stream",
          "text": [
            "Mon Jul  5 20:23:54 2021       \n",
            "+-----------------------------------------------------------------------------+\n",
            "| NVIDIA-SMI 465.27       Driver Version: 460.32.03    CUDA Version: 11.2     |\n",
            "|-------------------------------+----------------------+----------------------+\n",
            "| GPU  Name        Persistence-M| Bus-Id        Disp.A | Volatile Uncorr. ECC |\n",
            "| Fan  Temp  Perf  Pwr:Usage/Cap|         Memory-Usage | GPU-Util  Compute M. |\n",
            "|                               |                      |               MIG M. |\n",
            "|===============================+======================+======================|\n",
            "|   0  Tesla T4            Off  | 00000000:00:04.0 Off |                    0 |\n",
            "| N/A   39C    P8     9W /  70W |      0MiB / 15109MiB |      0%      Default |\n",
            "|                               |                      |                  N/A |\n",
            "+-------------------------------+----------------------+----------------------+\n",
            "                                                                               \n",
            "+-----------------------------------------------------------------------------+\n",
            "| Processes:                                                                  |\n",
            "|  GPU   GI   CI        PID   Type   Process name                  GPU Memory |\n",
            "|        ID   ID                                                   Usage      |\n",
            "|=============================================================================|\n",
            "|  No running processes found                                                 |\n",
            "+-----------------------------------------------------------------------------+\n"
          ],
          "name": "stdout"
        }
      ]
    },
    {
      "cell_type": "code",
      "metadata": {
        "id": "_exZj-Q464H4",
        "colab": {
          "base_uri": "https://localhost:8080/"
        },
        "outputId": "ffa9f076-4b7f-4bc0-894b-25238f265aaf"
      },
      "source": [
        "import numpy as np\n",
        "from keras.datasets import imdb\n",
        "from matplotlib import pyplot as plt\n",
        "import pandas as pd\n",
        "import json\n",
        "from keras.layers.embeddings import Embedding\n",
        "from sklearn.model_selection import train_test_split\n",
        "from keras.preprocessing.text import Tokenizer\n",
        "from keras.preprocessing.sequence import pad_sequences\n",
        "import nltk\n",
        "import seaborn as sns\n",
        "import nltk\n",
        "nltk.download('stopwords')\n",
        "from nltk.corpus import stopwords\n",
        "import pprint"
      ],
      "execution_count": null,
      "outputs": [
        {
          "output_type": "stream",
          "text": [
            "[nltk_data] Downloading package stopwords to /root/nltk_data...\n",
            "[nltk_data]   Package stopwords is already up-to-date!\n"
          ],
          "name": "stdout"
        }
      ]
    },
    {
      "cell_type": "markdown",
      "metadata": {
        "id": "VxfC-AO-7m9z"
      },
      "source": [
        "#Data Loading"
      ]
    },
    {
      "cell_type": "code",
      "metadata": {
        "colab": {
          "base_uri": "https://localhost:8080/",
          "height": 678
        },
        "id": "440wH3E47QKB",
        "outputId": "e788faf9-69ce-4a44-df34-db96088b6fcc"
      },
      "source": [
        "#Train\n",
        "df = pd.read_csv(\"train.csv\",  encoding = \"ISO-8859-1\")\n",
        "df = df.dropna(axis=1,how='all')\n",
        "df = df.dropna()\n",
        "print(df)\n",
        "#Test\n",
        "df_test = pd.read_csv(\"test.csv\",  encoding = \"ISO-8859-1\")\n",
        "df_test = df_test.dropna(axis=1,how='all')\n",
        "df_test = df_test.dropna()\n",
        "df_test"
      ],
      "execution_count": null,
      "outputs": [
        {
          "output_type": "stream",
          "text": [
            "        id  ...                                           overview\n",
            "0        1  ...  When Lou, who has become the \"father of the In...\n",
            "1        2  ...  Mia Thermopolis is now a college graduate and ...\n",
            "2        3  ...  Under the direction of a ruthless instructor, ...\n",
            "3        4  ...  Vidya Bagchi (Vidya Balan) arrives in Kolkata ...\n",
            "4        5  ...  Marine Boy is the story of a former national s...\n",
            "...    ...  ...                                                ...\n",
            "1995  1996  ...  A desk-bound CIA analyst volunteers to go unde...\n",
            "1996  1997  ...  An American Ambassador is killed during an att...\n",
            "1997  1998  ...  A young advertising executive's life becomes i...\n",
            "1998  1999  ...  A revenge-seeking gold digger marries a womani...\n",
            "1999  2000  ...  A man struggles with memories of his past, inc...\n",
            "\n",
            "[1995 rows x 3 columns]\n"
          ],
          "name": "stdout"
        },
        {
          "output_type": "execute_result",
          "data": {
            "text/html": [
              "<div>\n",
              "<style scoped>\n",
              "    .dataframe tbody tr th:only-of-type {\n",
              "        vertical-align: middle;\n",
              "    }\n",
              "\n",
              "    .dataframe tbody tr th {\n",
              "        vertical-align: top;\n",
              "    }\n",
              "\n",
              "    .dataframe thead th {\n",
              "        text-align: right;\n",
              "    }\n",
              "</style>\n",
              "<table border=\"1\" class=\"dataframe\">\n",
              "  <thead>\n",
              "    <tr style=\"text-align: right;\">\n",
              "      <th></th>\n",
              "      <th>id</th>\n",
              "      <th>genres</th>\n",
              "      <th>overview</th>\n",
              "    </tr>\n",
              "  </thead>\n",
              "  <tbody>\n",
              "    <tr>\n",
              "      <th>0</th>\n",
              "      <td>2001</td>\n",
              "      <td>[{'id': 35, 'name': 'Comedy'}, {'id': 10749, '...</td>\n",
              "      <td>1951: Andy Schmidt is in his last year of coll...</td>\n",
              "    </tr>\n",
              "    <tr>\n",
              "      <th>1</th>\n",
              "      <td>2002</td>\n",
              "      <td>[{'id': 28, 'name': 'Action'}, {'id': 12, 'nam...</td>\n",
              "      <td>Kickboxer 2 is, well, an unnecessary sequel wh...</td>\n",
              "    </tr>\n",
              "    <tr>\n",
              "      <th>2</th>\n",
              "      <td>2003</td>\n",
              "      <td>[{'id': 27, 'name': 'Horror'}, {'id': 53, 'nam...</td>\n",
              "      <td>A college-age brother and sister get more than...</td>\n",
              "    </tr>\n",
              "    <tr>\n",
              "      <th>3</th>\n",
              "      <td>2004</td>\n",
              "      <td>[{'id': 878, 'name': 'Science Fiction'}, {'id'...</td>\n",
              "      <td>Having just returned from a mission to Mars, C...</td>\n",
              "    </tr>\n",
              "    <tr>\n",
              "      <th>4</th>\n",
              "      <td>2005</td>\n",
              "      <td>[{'id': 878, 'name': 'Science Fiction'}, {'id'...</td>\n",
              "      <td>Washington, D.C. psychologist Carol Bennell an...</td>\n",
              "    </tr>\n",
              "    <tr>\n",
              "      <th>...</th>\n",
              "      <td>...</td>\n",
              "      <td>...</td>\n",
              "      <td>...</td>\n",
              "    </tr>\n",
              "    <tr>\n",
              "      <th>995</th>\n",
              "      <td>2996</td>\n",
              "      <td>[{'id': 35, 'name': 'Comedy'}, {'id': 10749, '...</td>\n",
              "      <td>Military men Rock Reilly and Eddie Devane are ...</td>\n",
              "    </tr>\n",
              "    <tr>\n",
              "      <th>996</th>\n",
              "      <td>2997</td>\n",
              "      <td>[{'id': 18, 'name': 'Drama'}, {'id': 10402, 'n...</td>\n",
              "      <td>Three girls in 1980s Stockholm decide to form ...</td>\n",
              "    </tr>\n",
              "    <tr>\n",
              "      <th>997</th>\n",
              "      <td>2998</td>\n",
              "      <td>[{'id': 80, 'name': 'Crime'}, {'id': 28, 'name...</td>\n",
              "      <td>Samantha Caine, suburban homemaker, is the ide...</td>\n",
              "    </tr>\n",
              "    <tr>\n",
              "      <th>998</th>\n",
              "      <td>2999</td>\n",
              "      <td>[{'id': 35, 'name': 'Comedy'}, {'id': 10749, '...</td>\n",
              "      <td>Reuben Feffer is a guy who's spent his entire ...</td>\n",
              "    </tr>\n",
              "    <tr>\n",
              "      <th>999</th>\n",
              "      <td>3000</td>\n",
              "      <td>[{'id': 53, 'name': 'Thriller'}, {'id': 28, 'n...</td>\n",
              "      <td>A young man sets out to uncover the truth abou...</td>\n",
              "    </tr>\n",
              "  </tbody>\n",
              "</table>\n",
              "<p>997 rows × 3 columns</p>\n",
              "</div>"
            ],
            "text/plain": [
              "       id  ...                                           overview\n",
              "0    2001  ...  1951: Andy Schmidt is in his last year of coll...\n",
              "1    2002  ...  Kickboxer 2 is, well, an unnecessary sequel wh...\n",
              "2    2003  ...  A college-age brother and sister get more than...\n",
              "3    2004  ...  Having just returned from a mission to Mars, C...\n",
              "4    2005  ...  Washington, D.C. psychologist Carol Bennell an...\n",
              "..    ...  ...                                                ...\n",
              "995  2996  ...  Military men Rock Reilly and Eddie Devane are ...\n",
              "996  2997  ...  Three girls in 1980s Stockholm decide to form ...\n",
              "997  2998  ...  Samantha Caine, suburban homemaker, is the ide...\n",
              "998  2999  ...  Reuben Feffer is a guy who's spent his entire ...\n",
              "999  3000  ...  A young man sets out to uncover the truth abou...\n",
              "\n",
              "[997 rows x 3 columns]"
            ]
          },
          "metadata": {
            "tags": []
          },
          "execution_count": 7
        }
      ]
    },
    {
      "cell_type": "code",
      "metadata": {
        "id": "qzeegWjR2KRM"
      },
      "source": [
        "import re\n",
        "labels = {}\n",
        "names = {}\n",
        "#Train\n",
        "for index, row in df.iterrows():\n",
        "    labels[index] = []\n",
        "    names[index] = []\n",
        "    m = re.findall(r'\\b\\d+\\b', row[1], re.M)\n",
        "    for label in m:\n",
        "      labels[index].append(int(label))\n",
        "    strings = (re.split(r'\\W+', row[1]))\n",
        "    for name in strings:\n",
        "      if name == \"Science\":\n",
        "          names[index].append(name+ \" Fiction\")\n",
        "      elif len(name)>0 and name[0].isupper() and name!= \"Fiction\":\n",
        "          names[index].append(name)\n",
        "    # print(\"-----------\") \n",
        "\n",
        "\n",
        "#Test\n",
        "labels_test = {}\n",
        "names_test = {}\n",
        "for index, row in df_test.iterrows():\n",
        "    labels_test[index] = []\n",
        "    names_test[index] = []\n",
        "    m = re.findall(r'\\b\\d+\\b', row[1], re.M)\n",
        "    for label in m:\n",
        "      labels_test[index].append(int(label))\n",
        "    strings = (re.split(r'\\W+', row[1]))\n",
        "    for name in strings:\n",
        "      if name == \"Science\":\n",
        "          names_test[index].append(name+ \" Fiction\")\n",
        "      elif len(name)>0 and name[0].isupper() and name!= \"Fiction\":\n",
        "          names_test[index].append(name)\n",
        "    # print(\"-----------\") "
      ],
      "execution_count": null,
      "outputs": []
    },
    {
      "cell_type": "code",
      "metadata": {
        "id": "jc-zFsWNrLF3"
      },
      "source": [
        "def preprocess_text(sen):\n",
        "    # Remove punctuations and numbers\n",
        "    sentence = re.sub('[^a-zA-Z]', ' ', sen)\n",
        "\n",
        "    # Single character removal\n",
        "    sentence = re.sub(r\"\\s+[a-zA-Z]\\s+\", ' ', sentence)\n",
        "\n",
        "    # Removing multiple spaces\n",
        "    sentence = re.sub(r'\\s+', ' ', sentence)\n",
        "\n",
        "    return sentence"
      ],
      "execution_count": null,
      "outputs": []
    },
    {
      "cell_type": "code",
      "metadata": {
        "id": "nIEY6plgsLjK"
      },
      "source": [
        "# df.loc[390,\"overview\"]\n",
        "# df = df.dropna()"
      ],
      "execution_count": null,
      "outputs": []
    },
    {
      "cell_type": "code",
      "metadata": {
        "id": "aFpXpHwspN3u"
      },
      "source": [
        "X = []\n",
        "X_test = []\n",
        "sentences = list(df[\"overview\"])\n",
        "for index,sen in enumerate(sentences):\n",
        "    X.append(preprocess_text(sen))\n",
        "\n",
        "sentences = list(df_test[\"overview\"])\n",
        "for index,sen in enumerate(sentences):\n",
        "    X_test.append(preprocess_text(sen))\n",
        "\n",
        "print(len(X))\n",
        "print(len(X_test))"
      ],
      "execution_count": null,
      "outputs": []
    },
    {
      "cell_type": "code",
      "metadata": {
        "colab": {
          "base_uri": "https://localhost:8080/"
        },
        "id": "mXoNvE1VhIzT",
        "outputId": "22115706-0dab-438d-da41-dce08d632024"
      },
      "source": [
        "unique_id = []\n",
        "unique_names = []\n",
        "count_id = {}   ##The counts will be changing during counting process, so it can not defined as list due to the immutable property of lists.\n",
        "count_id_index = 0\n",
        "removed_index = [390,591, 977, 1335, 1541 ]\n",
        "#Train\n",
        "for i in range(len(labels)):\n",
        "  if i not in removed_index:\n",
        "    for j in range(len(labels[i])):\n",
        "      if labels[i][j] not in unique_id:\n",
        "        unique_id.append(labels[i][j]) \n",
        "        unique_names.append(names[i][j])\n",
        "        count_id[count_id_index] = 1\n",
        "        count_id_index += 1\n",
        "      else:\n",
        "        count_id[unique_id.index(labels[i][j])] += 1\n",
        "print(unique_id)\n",
        "print(unique_names)\n",
        "print(count_id)\n",
        "\n",
        "#Test\n",
        "count_id_test = {}   ##The counts will be changing during counting process, so it can not defined as list due to the immutable property of lists.\n",
        "count_id_index_test = 0\n",
        "unique_id_test = []\n",
        "unique_names_test = []\n",
        "removed_index_test = [150,302,865 ]\n",
        "for i in range(len(labels_test)):\n",
        "  if i not in removed_index_test:\n",
        "    for j in range(len(labels_test[i])):\n",
        "      if labels_test[i][j] not in unique_id_test:\n",
        "        unique_id_test.append(labels_test[i][j]) \n",
        "        unique_names_test.append(names_test[i][j])\n",
        "        count_id_test[count_id_index_test] = 1\n",
        "        count_id_index_test += 1\n",
        "      else:\n",
        "        count_id_test[unique_id_test.index(labels_test[i][j])] += 1\n",
        "print(count_id_test)"
      ],
      "execution_count": null,
      "outputs": [
        {
          "output_type": "stream",
          "text": [
            "[35, 18, 10751, 10749, 53, 28, 16, 12, 27, 99, 10402, 80, 878, 9648, 10769, 14, 10752, 37, 36, 10770]\n",
            "['Comedy', 'Drama', 'Family', 'Romance', 'Thriller', 'Action', 'Animation', 'Adventure', 'Horror', 'Documentary', 'Music', 'Crime', 'Science Fiction', 'Mystery', 'Foreign', 'Fantasy', 'War', 'Western', 'History', 'TV']\n",
            "{0: 669, 1: 1008, 2: 178, 3: 385, 4: 544, 5: 475, 6: 89, 7: 295, 8: 207, 9: 67, 10: 65, 11: 296, 12: 186, 13: 149, 14: 23, 15: 156, 16: 68, 17: 30, 18: 95, 19: 1}\n",
            "{0: 351, 1: 185, 2: 262, 3: 145, 4: 94, 5: 242, 6: 102, 7: 524, 8: 82, 9: 52, 10: 36, 11: 169, 12: 35, 13: 31, 14: 76, 15: 73, 16: 20, 17: 8, 18: 13}\n"
          ],
          "name": "stdout"
        }
      ]
    },
    {
      "cell_type": "code",
      "metadata": {
        "colab": {
          "base_uri": "https://localhost:8080/",
          "height": 948
        },
        "id": "EDjzgUM-l0bf",
        "outputId": "a42a2ff5-ea7e-434b-a0d1-c21a3cf49266"
      },
      "source": [
        "plt.figure(figsize=(20,8)) \n",
        "keys = list(count_id.keys())\n",
        "vals = [float(count_id[k]) for k in keys]\n",
        "sns.barplot(x=unique_names, y=vals)\n",
        "plt.ylabel(\"Count\")\n",
        "plt.xlabel(\"Genre\")\n",
        "plt.title(\"Label Frequency in Train Data\")\n",
        "plt.savefig(\"./Trainlabels\", dpi=300)\n",
        "plt.figure(figsize=(20,8)) \n",
        "keys = list(count_id_test.keys())\n",
        "vals = [float(count_id_test[k]) for k in keys]\n",
        "sns.barplot(x=unique_names_test, y=vals)\n",
        "plt.ylabel(\"Count\")\n",
        "plt.xlabel(\"Genre\")\n",
        "plt.title(\"Label Frequency in Test Data\")\n",
        "plt.savefig(\"./Testlabels\", dpi=300)"
      ],
      "execution_count": null,
      "outputs": [
        {
          "output_type": "display_data",
          "data": {
            "image/png": "[encoded data removed]",
            "text/plain": [
              "<Figure size 1440x576 with 1 Axes>"
            ]
          },
          "metadata": {
            "tags": [],
            "needs_background": "light"
          }
        },
        {
          "output_type": "display_data",
          "data": {
            "image/png": "[encoded data removed]",
            "text/plain": [
              "<Figure size 1440x576 with 1 Axes>"
            ]
          },
          "metadata": {
            "tags": [],
            "needs_background": "light"
          }
        }
      ]
    },
    {
      "cell_type": "code",
      "metadata": {
        "id": "jO_0i-o4oFbs",
        "colab": {
          "base_uri": "https://localhost:8080/"
        },
        "outputId": "063194ab-d6d2-43cf-98f5-1c92dd5bd76e"
      },
      "source": [
        "# function for text cleaning \n",
        "def clean_text(text):\n",
        "    # remove backslash-apostrophe \n",
        "    text = re.sub(\"\\'\", \"\", text) \n",
        "    # remove everything except alphabets \n",
        "    text = re.sub(\"[^a-zA-Z]\",\" \",text) \n",
        "    # remove whitespaces \n",
        "    text = ' '.join(text.split()) \n",
        "    # convert text to lowercase \n",
        "    text = text.lower() \n",
        "    \n",
        "    return text\n",
        "X_cleaned = []\n",
        "for x in X:\n",
        "  X_cleaned.append(clean_text(x))\n",
        "print(\"Before Cleaning: \")\n",
        "print(X[0])\n",
        "print(\"------------------------------------\")\n",
        "print(\"After Cleaning:\")\n",
        "print(X_cleaned[0])\n",
        "\n",
        "#Test\n",
        "X_cleaned_test = []\n",
        "for x in X_test:\n",
        "  X_cleaned_test.append(clean_text(x))"
      ],
      "execution_count": null,
      "outputs": [
        {
          "output_type": "stream",
          "text": [
            "Before Cleaning: \n",
            "When Lou who has become the father of the Internet is shot by an unknown assailant Jacob and Nick fire up the time machine again to save their friend \n",
            "------------------------------------\n",
            "After Cleaning:\n",
            "when lou who has become the father of the internet is shot by an unknown assailant jacob and nick fire up the time machine again to save their friend\n"
          ],
          "name": "stdout"
        }
      ]
    },
    {
      "cell_type": "code",
      "metadata": {
        "colab": {
          "base_uri": "https://localhost:8080/",
          "height": 1000
        },
        "id": "ilLhavzjo4R_",
        "outputId": "7e1f742a-7716-42c0-c7c8-b176dc9a77b4"
      },
      "source": [
        "def freq_words(x,collection_type, isClean, terms = 30): \n",
        "  all_words = ' '.join([text for text in x]) \n",
        "  all_words = all_words.split() \n",
        "  fdist = nltk.FreqDist(all_words) \n",
        "  words_df = pd.DataFrame({'word':list(fdist.keys()), 'count':list(fdist.values())}) \n",
        "  \n",
        "  # selecting top 20 most frequent words \n",
        "  d = words_df.nlargest(columns=\"count\", n = terms) \n",
        "  \n",
        "  # visualize words and frequencies\n",
        "  plt.figure(figsize=(12,15)) \n",
        "  ax = sns.barplot(data=d, x= \"count\", y = \"word\") \n",
        "  ax.set(ylabel = 'Word') \n",
        "  if isClean:\n",
        "    plt.title(\"Word Frequency in \"+collection_type + \" Data After the Data Cleaning Phase\")\n",
        "  else:\n",
        "    plt.title(\"Word Frequency in \"+collection_type + \" Data Before the Data Cleaning Phase\")    \n",
        "  plt.savefig(f\"./WordFreq_{collection_type}_{isClean}\", dpi=300)\n",
        "  plt.show()\n",
        "  \n",
        "# print 100 most frequent words \n",
        "freq_words(X_cleaned,\"Train\", False, 100)\n",
        "freq_words(X_cleaned_test, \"Test\", False, 100)"
      ],
      "execution_count": null,
      "outputs": [
        {
          "output_type": "display_data",
          "data": {
            "image/png": "[encoded data removed]",
            "text/plain": [
              "<Figure size 864x1080 with 1 Axes>"
            ]
          },
          "metadata": {
            "tags": [],
            "needs_background": "light"
          }
        },
        {
          "output_type": "display_data",
          "data": {
            "image/png": "[encoded data removed]",
            "text/plain": [
              "<Figure size 864x1080 with 1 Axes>"
            ]
          },
          "metadata": {
            "tags": [],
            "needs_background": "light"
          }
        }
      ]
    },
    {
      "cell_type": "code",
      "metadata": {
        "colab": {
          "base_uri": "https://localhost:8080/",
          "height": 1000
        },
        "id": "9sNX33hlpOUC",
        "outputId": "e6e5c7b8-dc16-4621-9a3f-9d001df3f5a7"
      },
      "source": [
        "stop_words = set(stopwords.words('english'))\n",
        "\n",
        "X_cleaned_removed = []\n",
        "X_cleaned_removed_test = []\n",
        "# function to remove stopwords\n",
        "def remove_stopwords(text):\n",
        "    no_stopword_text = [w for w in text.split() if not w in stop_words]\n",
        "    return ' '.join(no_stopword_text)\n",
        "\n",
        "for x in X_cleaned:\n",
        "  X_cleaned_removed.append(remove_stopwords(x))\n",
        "\n",
        "for x in X_cleaned_test:\n",
        "  X_cleaned_removed_test.append(remove_stopwords(x))  \n",
        "\n",
        "freq_words(X_cleaned_removed , \"Train\", True, 100)\n",
        "freq_words(X_cleaned_removed_test, \"Test\", True, 100)\n",
        "print(\"Before Removing: \")\n",
        "print(X_cleaned[0])\n",
        "print(\"------------------------------------\")\n",
        "print(\"After Removing:\")\n",
        "print(X_cleaned_removed[0])"
      ],
      "execution_count": null,
      "outputs": [
        {
          "output_type": "display_data",
          "data": {
            "image/png": "[encoded data removed]",
            "text/plain": [
              "<Figure size 864x1080 with 1 Axes>"
            ]
          },
          "metadata": {
            "tags": [],
            "needs_background": "light"
          }
        },
        {
          "output_type": "display_data",
          "data": {
            "image/png": "[encoded data removed]",
            "text/plain": [
              "<Figure size 864x1080 with 1 Axes>"
            ]
          },
          "metadata": {
            "tags": [],
            "needs_background": "light"
          }
        },
        {
          "output_type": "stream",
          "text": [
            "Before Removing: \n",
            "when lou who has become the father of the internet is shot by an unknown assailant jacob and nick fire up the time machine again to save their friend\n",
            "------------------------------------\n",
            "After Removing:\n",
            "lou become father internet shot unknown assailant jacob nick fire time machine save friend\n"
          ],
          "name": "stdout"
        }
      ]
    },
    {
      "cell_type": "code",
      "metadata": {
        "id": "Oe_Ty9UuuQcQ"
      },
      "source": [
        "#Train Test Split\n",
        "# X_train, X_test, y_train, y_test = train_test_split(X, y, test_size=0.20, random_state=42)\n",
        "X_train = X_cleaned_removed\n",
        "X_test = X_cleaned_removed_test\n",
        "#y_train = labels"
      ],
      "execution_count": null,
      "outputs": []
    },
    {
      "cell_type": "code",
      "metadata": {
        "id": "2KTP2S26Q1tL"
      },
      "source": [
        "# print(unique_id)\n",
        "# print(unique_names)\n",
        "# print(count_id)\n",
        "# print(labels)\n",
        "y_train = np.zeros((len(labels)+len(removed_index), len(unique_id)))   #This Creates 1995*20 Numpy Array\n",
        "for i in range(len(labels)+ len(removed_index)):\n",
        "  if i not in removed_index:\n",
        "    for j in range(len(labels[i])):\n",
        "      y_train[i][unique_id.index(labels[i][j])] = 1\n",
        "y_train = np.delete(y_train, removed_index , axis=0)\n",
        "# print(y_train.shape)\n",
        "# print(y_train[-1])\n",
        "# print(y_train)\n",
        "\n",
        "\n",
        "y_test = np.zeros((len(labels_test)+len(removed_index_test), len(unique_id_test)))   #This Creates 1995*20 Numpy Array\n",
        "for i in range(len(labels_test)+ len(removed_index_test)):\n",
        "  if i not in removed_index_test:\n",
        "    for j in range(len(labels_test[i])):\n",
        "      y_test[i][unique_id_test.index(labels_test[i][j])] = 1\n",
        "y_test = np.delete(y_test, removed_index_test, axis=0)"
      ],
      "execution_count": null,
      "outputs": []
    },
    {
      "cell_type": "code",
      "metadata": {
        "colab": {
          "base_uri": "https://localhost:8080/"
        },
        "id": "lmDS57wIkyIW",
        "outputId": "9363cdc1-702d-427f-d1ba-de45ce56e841"
      },
      "source": [
        "print(y_train.shape)\n",
        "print(y_test.shape)\n",
        "print(len(X_train))\n",
        "print(len(X_test))"
      ],
      "execution_count": null,
      "outputs": [
        {
          "output_type": "stream",
          "text": [
            "(1995, 20)\n",
            "(997, 19)\n",
            "1995\n",
            "997\n"
          ],
          "name": "stdout"
        }
      ]
    },
    {
      "cell_type": "markdown",
      "metadata": {
        "id": "p0HDLi6trORo"
      },
      "source": [
        "#Create Representation"
      ]
    },
    {
      "cell_type": "markdown",
      "metadata": {
        "id": "t9esXl6cODLJ"
      },
      "source": [
        "##Word2Vec"
      ]
    },
    {
      "cell_type": "code",
      "metadata": {
        "id": "c7Njj42GdeGx",
        "colab": {
          "base_uri": "https://localhost:8080/"
        },
        "outputId": "a3f1a17d-31bc-4dba-d02b-b9897b259881"
      },
      "source": [
        "!brew install wget\n",
        "\n",
        "!wget -c \"https://s3.amazonaws.com/dl4j-distribution/GoogleNews-vectors-negative300.bin.gz\"\n",
        "!gzip -d GoogleNews-vectors-negative300.bin.gz\n"
      ],
      "execution_count": null,
      "outputs": [
        {
          "output_type": "stream",
          "text": [
            "/bin/bash: brew: command not found\n",
            "--2021-07-05 20:24:23--  https://s3.amazonaws.com/dl4j-distribution/GoogleNews-vectors-negative300.bin.gz\n",
            "Resolving s3.amazonaws.com (s3.amazonaws.com)... 52.217.33.110\n",
            "Connecting to s3.amazonaws.com (s3.amazonaws.com)|52.217.33.110|:443... connected.\n",
            "HTTP request sent, awaiting response... 200 OK\n",
            "Length: 1647046227 (1.5G) [application/x-gzip]\n",
            "Saving to: ‘GoogleNews-vectors-negative300.bin.gz’\n",
            "\n",
            "GoogleNews-vectors- 100%[===================>]   1.53G  47.5MB/s    in 35s     \n",
            "\n",
            "2021-07-05 20:24:58 (44.7 MB/s) - ‘GoogleNews-vectors-negative300.bin.gz’ saved [1647046227/1647046227]\n",
            "\n",
            "gzip: GoogleNews-vectors-negative300.bin already exists; do you wish to overwrite (y or n)? n\n",
            "\tnot overwritten\n"
          ],
          "name": "stdout"
        }
      ]
    },
    {
      "cell_type": "code",
      "metadata": {
        "id": "qotr7AT5eXLk",
        "colab": {
          "base_uri": "https://localhost:8080/"
        },
        "outputId": "f087dac4-de2d-48db-f3ff-d8af6a742f46"
      },
      "source": [
        "from gensim.models import KeyedVectors\n",
        "model = KeyedVectors.load_word2vec_format('GoogleNews-vectors-negative300.bin', binary=True) \n",
        "word_vectors = model.wv"
      ],
      "execution_count": null,
      "outputs": [
        {
          "output_type": "stream",
          "text": [
            "/usr/local/lib/python3.7/dist-packages/ipykernel_launcher.py:3: DeprecationWarning: Call to deprecated `wv` (Attribute will be removed in 4.0.0, use self instead).\n",
            "  This is separate from the ipykernel package so we can avoid doing imports until\n"
          ],
          "name": "stderr"
        }
      ]
    },
    {
      "cell_type": "code",
      "metadata": {
        "id": "-bjThfUy7BiW"
      },
      "source": [
        "#For the 157th Corrupted Data\n",
        "# print(np.argwhere(np.isnan(X_train_rep)))\n",
        "del X_train[156]\n",
        "y_train = np.delete(y_train, (156), axis=0)\n",
        "\n",
        "# print(np.argwhere(np.isnan(X_test_rep)))\n",
        "del X_test[860]\n",
        "y_test = np.delete(y_test, (860), axis=0)\n"
      ],
      "execution_count": null,
      "outputs": []
    },
    {
      "cell_type": "code",
      "metadata": {
        "colab": {
          "base_uri": "https://localhost:8080/"
        },
        "id": "V5aI6f0Ewwnn",
        "outputId": "c5787926-a39e-488c-f93a-4ff4e38c1bce"
      },
      "source": [
        "X_train_rep = np.zeros((len(X_train), 300))\n",
        "for index,x in enumerate(X_train):\n",
        "  x_cum = np.zeros((1,300))\n",
        "  for word in x.split():\n",
        "    if word in word_vectors.vocab:\n",
        "      x_cum = np.vstack((x_cum, model[word]))\n",
        "  x_cum = np.delete(x_cum, (0), axis=0)\n",
        "  X_train_rep[index] = np.mean(x_cum, axis = 0)\n",
        "print(X_train_rep.shape)\n",
        "\n",
        "\n",
        "X_test_rep = np.zeros((len(X_test), 300))\n",
        "for index,x in enumerate(X_test):\n",
        "  x_cum = np.zeros((1,300))\n",
        "  for word in x.split():\n",
        "    if word in word_vectors.vocab:\n",
        "      x_cum = np.vstack((x_cum, model[word]))\n",
        "  x_cum = np.delete(x_cum, (0), axis=0)\n",
        "  X_test_rep[index] = np.mean(x_cum, axis = 0)\n",
        "print(X_test_rep.shape)"
      ],
      "execution_count": null,
      "outputs": [
        {
          "output_type": "stream",
          "text": [
            "(1994, 300)\n",
            "(996, 300)\n"
          ],
          "name": "stdout"
        }
      ]
    },
    {
      "cell_type": "code",
      "metadata": {
        "colab": {
          "base_uri": "https://localhost:8080/"
        },
        "id": "LRZkVrXr5ilG",
        "outputId": "2ec2eaa1-4e62-4c46-8608-56997b191b88"
      },
      "source": [
        "print(np.any(np.isnan(X_train_rep))) #Should be False\n",
        "print(np.all(np.isfinite(X_train_rep))) #Should be True\n",
        "\n",
        "print(np.any(np.isnan(X_test_rep))) #Should be False\n",
        "np.all(np.isfinite(X_test_rep)) #Should be True"
      ],
      "execution_count": null,
      "outputs": [
        {
          "output_type": "stream",
          "text": [
            "False\n",
            "True\n",
            "False\n"
          ],
          "name": "stdout"
        },
        {
          "output_type": "execute_result",
          "data": {
            "text/plain": [
              "True"
            ]
          },
          "metadata": {
            "tags": []
          },
          "execution_count": 25
        }
      ]
    },
    {
      "cell_type": "code",
      "metadata": {
        "id": "3K6XdGwA_0n_"
      },
      "source": [
        "# from sklearn.cluster import DBSCAN\n",
        "# dbscan = DBSCAN(metric='cosine', eps=0.07, min_samples=3) # you can change these parameters, given just for example \n",
        "# cluster_labels = dbscan.fit_predict(X) # where X - is your matrix, where each row corresponds to one document (line) from the docs, you need to cluster \n"
      ],
      "execution_count": null,
      "outputs": []
    },
    {
      "cell_type": "code",
      "metadata": {
        "colab": {
          "base_uri": "https://localhost:8080/"
        },
        "id": "RWmz3rcMcfIm",
        "outputId": "7e7a74bc-6526-43ac-e583-210767490499"
      },
      "source": [
        "\n",
        "# # getting word vectors of a word\n",
        "# dog = model['dog']\n",
        "\n",
        "# #performing king queen magic\n",
        "# print(model.most_similar(positive=['woman', 'king'], negative=['man']))\n",
        "\n",
        "# #picking odd one out\n",
        "# print(model.doesnt_match(\"breakfast cereal dinner lunch\".split()))\n",
        "\n",
        "# #printing similarity index\n",
        "# print(model.similarity('woman', 'man'))"
      ],
      "execution_count": null,
      "outputs": [
        {
          "output_type": "stream",
          "text": [
            "[('queen', 0.7118192911148071), ('monarch', 0.6189674139022827), ('princess', 0.5902431011199951), ('crown_prince', 0.5499460697174072), ('prince', 0.5377321243286133), ('kings', 0.5236844420433044), ('Queen_Consort', 0.5235945582389832), ('queens', 0.518113374710083), ('sultan', 0.5098593235015869), ('monarchy', 0.5087411999702454)]\n",
            "cereal\n",
            "0.76640123\n"
          ],
          "name": "stdout"
        },
        {
          "output_type": "stream",
          "text": [
            "/usr/local/lib/python3.7/dist-packages/gensim/models/keyedvectors.py:895: FutureWarning: arrays to stack must be passed as a \"sequence\" type such as list or tuple. Support for non-sequence iterables such as generators is deprecated as of NumPy 1.16 and will raise an error in the future.\n",
            "  vectors = vstack(self.word_vec(word, use_norm=True) for word in used_words).astype(REAL)\n"
          ],
          "name": "stderr"
        }
      ]
    },
    {
      "cell_type": "markdown",
      "metadata": {
        "id": "oRaXNl_POIP_"
      },
      "source": [
        "##TF-IDF"
      ]
    },
    {
      "cell_type": "code",
      "metadata": {
        "id": "hyeznY0kvw9N"
      },
      "source": [
        "from sklearn.feature_extraction.text import TfidfVectorizer"
      ],
      "execution_count": null,
      "outputs": []
    },
    {
      "cell_type": "code",
      "metadata": {
        "id": "NDwQSg9zundA"
      },
      "source": [
        "tfidf_vectorizer = TfidfVectorizer(max_df=0.8, max_features=10000)\n",
        "# tfidf_vectorizer = TfidfVectorizer(max_df=0.8, max_features=5000)\n",
        "tfidf_vectorizer.fit(X_train)\n",
        "\n",
        "X_train_rep = tfidf_vectorizer.transform(X_train)\n",
        "X_test_rep = tfidf_vectorizer.transform(X_test)"
      ],
      "execution_count": null,
      "outputs": []
    },
    {
      "cell_type": "code",
      "metadata": {
        "colab": {
          "base_uri": "https://localhost:8080/"
        },
        "id": "L9lqXbx2PLEB",
        "outputId": "4628de47-b0b6-4a82-ce98-87df7f86a0ee"
      },
      "source": [
        "print(X_test_rep.shape)\n",
        "X_train_rep.shape"
      ],
      "execution_count": null,
      "outputs": [
        {
          "output_type": "stream",
          "text": [
            "(996, 10000)\n"
          ],
          "name": "stdout"
        },
        {
          "output_type": "execute_result",
          "data": {
            "text/plain": [
              "(1994, 10000)"
            ]
          },
          "metadata": {
            "tags": []
          },
          "execution_count": 166
        }
      ]
    },
    {
      "cell_type": "markdown",
      "metadata": {
        "id": "BPtzzQlQD4VQ"
      },
      "source": [
        "##Combination"
      ]
    },
    {
      "cell_type": "code",
      "metadata": {
        "id": "vC-DKmh7EW2d",
        "colab": {
          "base_uri": "https://localhost:8080/"
        },
        "outputId": "1941ac89-6312-4ea7-91c7-3c5c41355046"
      },
      "source": [
        "!brew install wget\n",
        "\n",
        "!wget -c \"https://s3.amazonaws.com/dl4j-distribution/GoogleNews-vectors-negative300.bin.gz\"\n",
        "!gzip -d GoogleNews-vectors-negative300.bin.gz\n"
      ],
      "execution_count": null,
      "outputs": [
        {
          "output_type": "stream",
          "text": [
            "/bin/bash: brew: command not found\n",
            "--2021-07-04 08:55:10--  https://s3.amazonaws.com/dl4j-distribution/GoogleNews-vectors-negative300.bin.gz\n",
            "Resolving s3.amazonaws.com (s3.amazonaws.com)... 52.216.164.237\n",
            "Connecting to s3.amazonaws.com (s3.amazonaws.com)|52.216.164.237|:443... connected.\n",
            "HTTP request sent, awaiting response... 200 OK\n",
            "Length: 1647046227 (1.5G) [application/x-gzip]\n",
            "Saving to: ‘GoogleNews-vectors-negative300.bin.gz’\n",
            "\n",
            "GoogleNews-vectors- 100%[===================>]   1.53G  73.8MB/s    in 27s     \n",
            "\n",
            "2021-07-04 08:55:37 (59.3 MB/s) - ‘GoogleNews-vectors-negative300.bin.gz’ saved [1647046227/1647046227]\n",
            "\n"
          ],
          "name": "stdout"
        }
      ]
    },
    {
      "cell_type": "code",
      "metadata": {
        "id": "KZ4bvdwcEW2e",
        "colab": {
          "base_uri": "https://localhost:8080/"
        },
        "outputId": "73fd4c11-5b97-4eeb-b93e-00671270c034"
      },
      "source": [
        "from gensim.models import KeyedVectors\n",
        "model = KeyedVectors.load_word2vec_format('GoogleNews-vectors-negative300.bin', binary=True) \n",
        "word_vectors = model.wv"
      ],
      "execution_count": null,
      "outputs": [
        {
          "output_type": "stream",
          "text": [
            "/usr/local/lib/python3.7/dist-packages/ipykernel_launcher.py:3: DeprecationWarning: Call to deprecated `wv` (Attribute will be removed in 4.0.0, use self instead).\n",
            "  This is separate from the ipykernel package so we can avoid doing imports until\n"
          ],
          "name": "stderr"
        }
      ]
    },
    {
      "cell_type": "code",
      "metadata": {
        "id": "N3VfPLp4EW2e"
      },
      "source": [
        "#For the 157th Corrupted Data\n",
        "# print(np.argwhere(np.isnan(X_train_rep)))\n",
        "# del X_train[156]\n",
        "# y_train = np.delete(y_train, (156), axis=0)\n",
        "\n",
        "# print(np.argwhere(np.isnan(X_test_rep)))\n",
        "# del X_test[860]\n",
        "# y_test = np.delete(y_test, (860), axis=0)\n"
      ],
      "execution_count": null,
      "outputs": []
    },
    {
      "cell_type": "code",
      "metadata": {
        "colab": {
          "base_uri": "https://localhost:8080/"
        },
        "id": "WXGdH3XtEg0Z",
        "outputId": "542ebee7-eed0-415f-b941-43c61447aea8"
      },
      "source": [
        "data_points_number = 0\n",
        "for i in range(len(X_train)):\n",
        "  data_points_number += len(X_train[i].split())\n",
        "print(data_points_number)\n",
        "\n",
        "\n",
        "data_points_number_test = 0\n",
        "for i in range(len(X_test)):\n",
        "  data_points_number_test += len(X_test[i].split())\n",
        "data_points_number_test"
      ],
      "execution_count": null,
      "outputs": [
        {
          "output_type": "stream",
          "text": [
            "60276\n"
          ],
          "name": "stdout"
        },
        {
          "output_type": "execute_result",
          "data": {
            "text/plain": [
              "29997"
            ]
          },
          "metadata": {
            "tags": []
          },
          "execution_count": 81
        }
      ]
    },
    {
      "cell_type": "code",
      "metadata": {
        "colab": {
          "base_uri": "https://localhost:8080/"
        },
        "id": "GRbLA9aoEW2f",
        "outputId": "41dcafb5-241e-41f5-f998-822ea8291a98"
      },
      "source": [
        "#Create Vector for every word for clustring algorithms\n",
        "#Train\n",
        "data_points = np.zeros(((data_points_number), 300))\n",
        "data_points_label = []\n",
        "idx = 0\n",
        "for index,x in enumerate(X_train):\n",
        "  for word in x.split():\n",
        "    if (word in word_vectors.vocab )and (word not in data_points_label):\n",
        "      data_points[idx] = model[word]\n",
        "      data_points_label.append(word)\n",
        "      idx = idx + 1\n",
        "print(data_points.shape)\n",
        "print(len(data_points_label))\n",
        "data_points = data_points[:idx]\n",
        "print(data_points.shape)\n",
        "\n",
        "#Test\n",
        "data_points_test = np.zeros(((data_points_number_test), 300))\n",
        "data_points_label_test = []\n",
        "idx = 0\n",
        "for index,x in enumerate(X_test):\n",
        "  for word in x.split():\n",
        "    if word in word_vectors.vocab:\n",
        "      data_points_test[idx] = model[word]\n",
        "      data_points_label_test.append(word)\n",
        "      idx = idx + 1\n",
        "print(data_points_test.shape)\n",
        "print(len(data_points_label_test))\n",
        "data_points_test = data_points_test[:idx]\n",
        "print(data_points_test.shape)\n",
        "\n"
      ],
      "execution_count": null,
      "outputs": [
        {
          "output_type": "stream",
          "text": [
            "(60276, 300)\n",
            "11940\n",
            "(11940, 300)\n",
            "(29997, 300)\n",
            "28731\n",
            "(28731, 300)\n"
          ],
          "name": "stdout"
        }
      ]
    },
    {
      "cell_type": "code",
      "metadata": {
        "id": "VpS8uxZTEW2f"
      },
      "source": [
        "from sklearn.cluster import DBSCAN\n",
        "dbscan = DBSCAN(metric='cosine', eps=0.35, min_samples=5) # you can change these parameters, given just for example \n",
        "cluster_labels = dbscan.fit_predict(data_points) # where X - is your matrix, where each row corresponds to one document (line) from the docs, you need to cluster \n"
      ],
      "execution_count": null,
      "outputs": []
    },
    {
      "cell_type": "code",
      "metadata": {
        "id": "t4-hrlxbD6pH"
      },
      "source": [
        "unique, counts = np.unique(cluster_labels, return_counts=True)\n",
        "print(np.asarray((unique, counts)).T)\n",
        "print(cluster_labels.shape)"
      ],
      "execution_count": null,
      "outputs": []
    },
    {
      "cell_type": "code",
      "metadata": {
        "colab": {
          "base_uri": "https://localhost:8080/"
        },
        "id": "shm7JLRlKJwn",
        "outputId": "aa3b3c54-7399-4198-8cd1-9c7c3ac2d482"
      },
      "source": [
        "#Train\n",
        "all_words = 0\n",
        "existing_words = 0\n",
        "synonums_dict = {}\n",
        "X_train_combination = []\n",
        "for index,x in enumerate(X_train):\n",
        "  row = []\n",
        "  for word in x.split():\n",
        "    all_words+= 1 \n",
        "    if word in word_vectors.vocab: \n",
        "      idx = data_points_label.index(word)\n",
        "      if cluster_labels[idx]==-1:   #If it was considered noise in clustering algorithm\n",
        "          row.append(word)\n",
        "      elif cluster_labels[idx] not in synonums_dict:\n",
        "          existing_words+= 1\n",
        "          synonums_dict[cluster_labels[idx]] = data_points_label[idx]\n",
        "          row.append(word)\n",
        "      else:\n",
        "          existing_words+= 1\n",
        "          row.append(synonums_dict[cluster_labels[idx]])\n",
        "    else:\n",
        "      row.append(word)\n",
        "  frow = \" \".join(str(temp) for temp in row)\n",
        "  X_train_combination.append(frow)\n",
        "  \n",
        "\n",
        "\n",
        "print(len(X_train))\n",
        "print(len(X_train_combination))\n",
        "print(X_train[0])\n",
        "print(X_train_combination[0])\n",
        "print(\"%f Percent was present in dictionery for Train data. \" %(existing_words/all_words))\n",
        "\n",
        "#Test\n",
        "all_words = 0\n",
        "existing_words = 0\n",
        "X_test_combination = []\n",
        "for index,x in enumerate(X_test):\n",
        "  row = []\n",
        "  for word in x.split():\n",
        "    all_words += 1 \n",
        "    if (word in word_vectors.vocab) and (word in data_points_label):\n",
        "      existing_words += 1  \n",
        "      idx = data_points_label.index(word)\n",
        "      if cluster_labels[idx]!= -1:\n",
        "        row.append(synonums_dict[cluster_labels[idx]])\n",
        "      else:\n",
        "        row.append(word)\n",
        "    else:\n",
        "      row.append(word)\n",
        "  frow = \" \".join(str(temp) for temp in row)\n",
        "  X_test_combination.append(frow)\n",
        "\n",
        "print(\"%f Percent was present in dictionery for Test data. \" %(existing_words/all_words))\n",
        "print(len(X_test))\n",
        "print(len(X_test_combination))\n",
        "print(X_test[0])\n",
        "print(X_test_combination[0])"
      ],
      "execution_count": null,
      "outputs": [
        {
          "output_type": "stream",
          "text": [
            "1994\n",
            "1994\n",
            "lou become father internet shot unknown assailant jacob nick fire time machine save friend\n",
            "lou become father internet shot unknown assailant jacob nick fire time machine save father\n",
            "0.213800 Percent was present in dictionery for Train data. \n",
            "0.855986 Percent was present in dictionery for Test data. \n",
            "996\n",
            "996\n",
            "andy schmidt last year college taking life easy always saucy joke lips manages win fellow student mary heart although already otherwise engaged getting job college turns much harder expected directors take offense free interpretation roles desperate tries wrestling avoid getting beaten stages fights incidentally invents show wrestling\n",
            "jacob schmidt last months college taking life easy always saucy joke lips manages winning fellow students jacob heart although already otherwise engaged getting job college turns much impossible expected directors take offense free interpretation roles desperate tries wrestling prevent getting beaten stages fights incidentally invents show wrestling\n"
          ],
          "name": "stdout"
        }
      ]
    },
    {
      "cell_type": "code",
      "metadata": {
        "colab": {
          "base_uri": "https://localhost:8080/"
        },
        "id": "_sz3MJDnTcpx",
        "outputId": "d0438f18-a3b7-43eb-a115-5e9348986ea4"
      },
      "source": [
        "a = -10\n",
        "print(X_train[a])\n",
        "print(X_train_combination[a])\n",
        "print(len(y_train))\n",
        "\n",
        "print(X_test[a])\n",
        "print(X_test_combination[a])\n",
        "print(len(y_train))"
      ],
      "execution_count": null,
      "outputs": [
        {
          "output_type": "stream",
          "text": [
            "legend creepy masked man michael myers comes life fourth installment successful horror franchise time michael niece jamie seem escape crazy uncle michael loose jamie enlists help good old dr loomis stop murderer time though seems end michael madness\n",
            "famous comedy masked father jacob jacob comes life third installment successful horror franchise time jacob father jacob seem escape comedy father jacob loose jacob enlists help bad old dr loomis stop dead time though seem end jacob madness\n",
            "1994\n",
            "two clueless georgia homegirls big hearts even bigger hair find happiness fame thrills swank hills beverly anything possible revive blakemore interest life teaches black american princesses return\n",
            "seven clueless jacob homegirls bad hearts even bigger hair find happiness fame thrills swank hills beverly everyone possible revive blakemore interest life teaches black jacob princesses return\n",
            "1994\n"
          ],
          "name": "stdout"
        }
      ]
    },
    {
      "cell_type": "code",
      "metadata": {
        "id": "Bs1vYHkbXiSf"
      },
      "source": [
        "from sklearn.feature_extraction.text import TfidfVectorizer"
      ],
      "execution_count": null,
      "outputs": []
    },
    {
      "cell_type": "code",
      "metadata": {
        "id": "X9w1cBqJXiSh"
      },
      "source": [
        "tfidf_vectorizer = TfidfVectorizer(max_df=0.8, max_features=10000)\n",
        "tfidf_vectorizer.fit(X_train_combination)\n",
        "\n",
        "X_train_rep = tfidf_vectorizer.transform(X_train_combination)\n",
        "X_test_rep = tfidf_vectorizer.transform(X_test_combination)"
      ],
      "execution_count": null,
      "outputs": []
    },
    {
      "cell_type": "code",
      "metadata": {
        "colab": {
          "base_uri": "https://localhost:8080/"
        },
        "id": "bZCq3_h3Xjue",
        "outputId": "0d883379-f1df-422a-8408-4dafc8cc05ad"
      },
      "source": [
        "print(X_test_rep.shape)\n",
        "X_train_rep.shape"
      ],
      "execution_count": null,
      "outputs": [
        {
          "output_type": "stream",
          "text": [
            "(996, 10000)\n"
          ],
          "name": "stdout"
        },
        {
          "output_type": "execute_result",
          "data": {
            "text/plain": [
              "(1994, 10000)"
            ]
          },
          "metadata": {
            "tags": []
          },
          "execution_count": 93
        }
      ]
    },
    {
      "cell_type": "markdown",
      "metadata": {
        "id": "_58ureg8O9pc"
      },
      "source": [
        "#Create Classifier"
      ]
    },
    {
      "cell_type": "markdown",
      "metadata": {
        "id": "FzTsg7Fu_o29"
      },
      "source": [
        "##Classifier 1"
      ]
    },
    {
      "cell_type": "code",
      "metadata": {
        "colab": {
          "base_uri": "https://localhost:8080/"
        },
        "id": "T6kheaPWPAz6",
        "outputId": "9a4d22d3-4f1c-405d-de71-53b6dcb817aa"
      },
      "source": [
        "from sklearn.linear_model import LogisticRegression\n",
        "from sklearn.pipeline import Pipeline\n",
        "from sklearn.metrics import accuracy_score\n",
        "from sklearn.multiclass import OneVsRestClassifier# Using pipeline for applying logistic regression and one vs rest classifier\n",
        "LogReg_pipeline = Pipeline([\n",
        "                ('clf', OneVsRestClassifier(LogisticRegression(solver='sag'), n_jobs=-1)),])\n",
        "for i,category in enumerate(unique_names):\n",
        "    print('**Processing {} Genre...**'.format(category))\n",
        "    \n",
        "    # Training logistic regression model on train data\n",
        "    LogReg_pipeline.fit(X_train_rep, y_train[:,i])\n",
        "    \n",
        "    # calculating test accuracy\n",
        "    # prediction = LogReg_pipeline.predict(x_test)\n",
        "    # print('Test accuracy is {}'.format(accuracy_score(test[category], prediction)))\n",
        "    # print(\"\\n\")\n"
      ],
      "execution_count": null,
      "outputs": [
        {
          "output_type": "stream",
          "text": [
            "**Processing Comedy Genre...**\n",
            "**Processing Drama Genre...**\n",
            "**Processing Family Genre...**\n",
            "**Processing Romance Genre...**\n",
            "**Processing Thriller Genre...**\n",
            "**Processing Action Genre...**\n",
            "**Processing Animation Genre...**\n",
            "**Processing Adventure Genre...**\n",
            "**Processing Horror Genre...**\n",
            "**Processing Documentary Genre...**\n",
            "**Processing Music Genre...**\n",
            "**Processing Crime Genre...**\n",
            "**Processing Science Fiction Genre...**\n",
            "**Processing Mystery Genre...**\n",
            "**Processing Foreign Genre...**\n",
            "**Processing Fantasy Genre...**\n",
            "**Processing War Genre...**\n",
            "**Processing Western Genre...**\n",
            "**Processing History Genre...**\n",
            "**Processing TV Genre...**\n"
          ],
          "name": "stdout"
        }
      ]
    },
    {
      "cell_type": "code",
      "metadata": {
        "id": "lrbVJStPPjIn",
        "colab": {
          "base_uri": "https://localhost:8080/"
        },
        "outputId": "f163a72a-cce7-4b25-c981-47feee713a96"
      },
      "source": [
        "from sklearn.metrics import accuracy_score\n",
        "accuracies = {}\n",
        "for i,category in enumerate(unique_names_test):\n",
        "    # print('**Evaluating {} Genre...**'.format(category))\n",
        "    \n",
        "    # Training logistic regression model on train data\n",
        "    y_pred = LogReg_pipeline.predict(X_test_rep)\n",
        "    accuracies[category] = accuracy_score(y_test[:,i],y_pred)\n",
        "\n",
        "for item in accuracies:\n",
        "  print(item)\n",
        "  print(accuracies[item])\n",
        "#   print(\"Accuracy on Genre \"+ item[0]+\": \"+ (item[1]))\n",
        "print(\"------------------------------------------------------------\")  \n",
        "print(\"Total Accuracy is: \"+ str(sum(accuracies.values())/len(accuracies)))"
      ],
      "execution_count": null,
      "outputs": [
        {
          "output_type": "stream",
          "text": [
            "Comedy\n",
            "0.6465863453815262\n",
            "Romance\n",
            "0.8142570281124498\n",
            "Action\n",
            "0.7349397590361446\n",
            "Adventure\n",
            "0.8544176706827309\n",
            "Horror\n",
            "0.9056224899598394\n",
            "Thriller\n",
            "0.7550200803212851\n",
            "Science Fiction\n",
            "0.8975903614457831\n",
            "Drama\n",
            "0.4748995983935743\n",
            "Family\n",
            "0.9176706827309237\n",
            "Animation\n",
            "0.9477911646586346\n",
            "History\n",
            "0.963855421686747\n",
            "Crime\n",
            "0.8293172690763052\n",
            "Music\n",
            "0.964859437751004\n",
            "War\n",
            "0.9688755020080321\n",
            "Fantasy\n",
            "0.9236947791164659\n",
            "Mystery\n",
            "0.9246987951807228\n",
            "Documentary\n",
            "0.9799196787148594\n",
            "Foreign\n",
            "0.9919678714859438\n",
            "Western\n",
            "0.9869477911646586\n",
            "------------------------------------------------------------\n",
            "Total Accuracy is: 0.8675227224688227\n"
          ],
          "name": "stdout"
        }
      ]
    },
    {
      "cell_type": "code",
      "metadata": {
        "colab": {
          "base_uri": "https://localhost:8080/",
          "height": 488
        },
        "id": "qXldQwDKnDEo",
        "outputId": "24715252-c196-4d3d-e4bc-2bba7968bbbe"
      },
      "source": [
        "plt.figure(figsize=(20,8)) \n",
        "plt.bar(*zip(*accuracies.items()))\n",
        "plt.ylabel(\"Accuracy\")\n",
        "plt.xlabel(\"Genre\")\n",
        "plt.title(\"Classification Accuracy per Each Genre\")\n",
        "plt.savefig(\"Word2Vec_Results_LogReg\", dpi=300)\n",
        "# plt.show()\n"
      ],
      "execution_count": null,
      "outputs": [
        {
          "output_type": "display_data",
          "data": {
            "image/png": "[encoded data removed]",
            "text/plain": [
              "<Figure size 1440x576 with 1 Axes>"
            ]
          },
          "metadata": {
            "tags": [],
            "needs_background": "light"
          }
        }
      ]
    },
    {
      "cell_type": "markdown",
      "metadata": {
        "id": "SwdKwjoy_jqZ"
      },
      "source": [
        "##Classifier 2"
      ]
    },
    {
      "cell_type": "code",
      "metadata": {
        "colab": {
          "base_uri": "https://localhost:8080/"
        },
        "id": "LB9v4aLBXPZX",
        "outputId": "37ef42fc-80e5-4556-94aa-9146022050e8"
      },
      "source": [
        "!pip install scikit-multilearn"
      ],
      "execution_count": null,
      "outputs": [
        {
          "output_type": "stream",
          "text": [
            "Collecting scikit-multilearn\n",
            "\u001b[?25l  Downloading https://files.pythonhosted.org/packages/bb/1f/e6ff649c72a1cdf2c7a1d31eb21705110ce1c5d3e7e26b2cc300e1637272/scikit_multilearn-0.2.0-py3-none-any.whl (89kB)\n",
            "\r\u001b[K     |███▊                            | 10kB 22.4MB/s eta 0:00:01\r\u001b[K     |███████▍                        | 20kB 15.8MB/s eta 0:00:01\r\u001b[K     |███████████                     | 30kB 13.6MB/s eta 0:00:01\r\u001b[K     |██████████████▊                 | 40kB 12.6MB/s eta 0:00:01\r\u001b[K     |██████████████████▍             | 51kB 8.6MB/s eta 0:00:01\r\u001b[K     |██████████████████████          | 61kB 10.0MB/s eta 0:00:01\r\u001b[K     |█████████████████████████▊      | 71kB 9.1MB/s eta 0:00:01\r\u001b[K     |█████████████████████████████▍  | 81kB 9.9MB/s eta 0:00:01\r\u001b[K     |████████████████████████████████| 92kB 5.9MB/s \n",
            "\u001b[?25hInstalling collected packages: scikit-multilearn\n",
            "Successfully installed scikit-multilearn-0.2.0\n"
          ],
          "name": "stdout"
        }
      ]
    },
    {
      "cell_type": "code",
      "metadata": {
        "id": "U6IK1275GTfc",
        "colab": {
          "base_uri": "https://localhost:8080/"
        },
        "outputId": "05f4a564-073a-439b-940f-39aafdf54c21"
      },
      "source": [
        "# using binary relevance\n",
        "from sklearn.metrics import accuracy_score\n",
        "from skmultilearn.problem_transform import BinaryRelevance\n",
        "from sklearn.naive_bayes import GaussianNB# initialize binary relevance multi-label classifier\n",
        "# with a gaussian naive bayes base classifier\n",
        "classifier = BinaryRelevance(GaussianNB())# train\n",
        "classifier.fit(X_train_rep, y_train)# predict\n"
      ],
      "execution_count": null,
      "outputs": [
        {
          "output_type": "execute_result",
          "data": {
            "text/plain": [
              "BinaryRelevance(classifier=GaussianNB(priors=None, var_smoothing=1e-09),\n",
              "                require_dense=[True, True])"
            ]
          },
          "metadata": {
            "tags": []
          },
          "execution_count": 147
        }
      ]
    },
    {
      "cell_type": "code",
      "metadata": {
        "colab": {
          "base_uri": "https://localhost:8080/"
        },
        "id": "q406VvyxXCJQ",
        "outputId": "3897af45-49b2-4090-8a9e-845c2d67cef9"
      },
      "source": [
        "predictions = classifier.predict(X_test_rep)# accuracy\n",
        "a = np.hstack((y_test, np.zeros((y_test.shape[0], 1 ))  ))\n",
        "# print(\"Accuracy = \",accuracy_score(a,predictions.toarray()))\n",
        "correct = 0\n",
        "for pred,true in zip(predictions, a):\n",
        "  for j in range(20):\n",
        "    if pred[0,j]==true[j]:\n",
        "     correct+=1\n",
        "print(correct/(y_test.shape[0]*y_test.shape[1]))"
      ],
      "execution_count": null,
      "outputs": [
        {
          "output_type": "stream",
          "text": [
            "0.8892411752272247\n"
          ],
          "name": "stdout"
        }
      ]
    },
    {
      "cell_type": "markdown",
      "metadata": {
        "id": "pYag3b3falnq"
      },
      "source": [
        "##Classifier 3\n"
      ]
    },
    {
      "cell_type": "code",
      "metadata": {
        "colab": {
          "base_uri": "https://localhost:8080/"
        },
        "id": "ZPDYiWitao56",
        "outputId": "a7753ce2-f832-49fb-abc8-5e1e2cbddaff"
      },
      "source": [
        "# using classifier chains\n",
        "from skmultilearn.problem_transform import ClassifierChain\n",
        "from sklearn.linear_model import LogisticRegression# initialize classifier chains multi-label classifier\n",
        "classifier = ClassifierChain(LogisticRegression())# Training logistic regression model on train data\n",
        "classifier.fit(X_train_rep, y_train)# predict"
      ],
      "execution_count": null,
      "outputs": [
        {
          "output_type": "execute_result",
          "data": {
            "text/plain": [
              "ClassifierChain(classifier=LogisticRegression(C=1.0, class_weight=None,\n",
              "                                              dual=False, fit_intercept=True,\n",
              "                                              intercept_scaling=1,\n",
              "                                              l1_ratio=None, max_iter=100,\n",
              "                                              multi_class='auto', n_jobs=None,\n",
              "                                              penalty='l2', random_state=None,\n",
              "                                              solver='lbfgs', tol=0.0001,\n",
              "                                              verbose=0, warm_start=False),\n",
              "                order=None, require_dense=[True, True])"
            ]
          },
          "metadata": {
            "tags": []
          },
          "execution_count": 149
        }
      ]
    },
    {
      "cell_type": "code",
      "metadata": {
        "colab": {
          "base_uri": "https://localhost:8080/"
        },
        "id": "yzNWrmEIaz2M",
        "outputId": "d49ffe22-0142-4f4a-99f5-266ec2ec3d40"
      },
      "source": [
        "predictions = classifier.predict(X_test_rep)# accuracy\n",
        "a = np.hstack((y_test, np.zeros((y_test.shape[0], 1 ))  ))\n",
        "# print(\"Accuracy = \",accuracy_score(a,predictions.toarray()))\n",
        "correct = 0\n",
        "for pred,true in zip(predictions, a):\n",
        "  for j in range(20):\n",
        "    if pred[0,j]==true[j]:\n",
        "     correct+=1\n",
        "print(correct/(y_test.shape[0]*y_test.shape[1]))"
      ],
      "execution_count": null,
      "outputs": [
        {
          "output_type": "stream",
          "text": [
            "0.8930458676812513\n"
          ],
          "name": "stdout"
        }
      ]
    },
    {
      "cell_type": "markdown",
      "metadata": {
        "id": "FJpW3ciMd_xJ"
      },
      "source": [
        "##Classifier 4\n"
      ]
    },
    {
      "cell_type": "code",
      "metadata": {
        "id": "iwh0ro21eEEk",
        "colab": {
          "base_uri": "https://localhost:8080/"
        },
        "outputId": "109245bb-509f-48d8-c95f-5fb3bb67514b"
      },
      "source": [
        "# using Label Powerset\n",
        "from skmultilearn.problem_transform import LabelPowerset# initialize label powerset multi-label classifier\n",
        "classifier = LabelPowerset(LogisticRegression())# train\n",
        "classifier.fit(X_train_rep, y_train)# predict"
      ],
      "execution_count": null,
      "outputs": [
        {
          "output_type": "execute_result",
          "data": {
            "text/plain": [
              "LabelPowerset(classifier=LogisticRegression(C=1.0, class_weight=None,\n",
              "                                            dual=False, fit_intercept=True,\n",
              "                                            intercept_scaling=1, l1_ratio=None,\n",
              "                                            max_iter=100, multi_class='auto',\n",
              "                                            n_jobs=None, penalty='l2',\n",
              "                                            random_state=None, solver='lbfgs',\n",
              "                                            tol=0.0001, verbose=0,\n",
              "                                            warm_start=False),\n",
              "              require_dense=[True, True])"
            ]
          },
          "metadata": {
            "tags": []
          },
          "execution_count": 151
        }
      ]
    },
    {
      "cell_type": "code",
      "metadata": {
        "colab": {
          "base_uri": "https://localhost:8080/"
        },
        "id": "4xTdC7KSeOxu",
        "outputId": "feb96b65-ff33-4f24-cce1-78e86b01fd87"
      },
      "source": [
        "predictions = classifier.predict(X_test_rep)# accuracy\n",
        "a = np.hstack((y_test, np.zeros((y_test.shape[0], 1 ))  ))\n",
        "# print(\"Accuracy = \",accuracy_score(a,predictions.toarray()))\n",
        "correct = 0\n",
        "for pred,true in zip(predictions, a):\n",
        "  for j in range(20):\n",
        "    if pred[0,j]==true[j]:\n",
        "     correct+=1\n",
        "print(correct/(y_test.shape[0]*y_test.shape[1]))"
      ],
      "execution_count": null,
      "outputs": [
        {
          "output_type": "stream",
          "text": [
            "0.8899809765377299\n"
          ],
          "name": "stdout"
        }
      ]
    },
    {
      "cell_type": "markdown",
      "metadata": {
        "id": "NN7iC0gwelB6"
      },
      "source": [
        "##Classifier 5"
      ]
    },
    {
      "cell_type": "code",
      "metadata": {
        "colab": {
          "base_uri": "https://localhost:8080/"
        },
        "id": "1_SbdfGCempY",
        "outputId": "94a08c6e-9d48-4dfa-bc53-1367021edbc6"
      },
      "source": [
        "from skmultilearn.adapt import MLkNN\n",
        "from scipy.sparse import csr_matrix, lil_matrix\n",
        "classifier_new = MLkNN(k=10)\n",
        "\n",
        "x_train = lil_matrix(X_train_rep).toarray()\n",
        "y_train = lil_matrix(y_train).toarray()\n",
        "x_test = lil_matrix(X_test_rep).toarray()\n",
        "\n",
        "classifier_new.fit(X_train_rep, y_train)# predict\n"
      ],
      "execution_count": null,
      "outputs": [
        {
          "output_type": "execute_result",
          "data": {
            "text/plain": [
              "MLkNN(ignore_first_neighbours=0, k=10, s=1.0)"
            ]
          },
          "metadata": {
            "tags": []
          },
          "execution_count": 153
        }
      ]
    },
    {
      "cell_type": "code",
      "metadata": {
        "colab": {
          "base_uri": "https://localhost:8080/"
        },
        "id": "BTf_R6AVe7P9",
        "outputId": "7ba12ee0-02e7-4995-a53f-60a0e961a879"
      },
      "source": [
        "predictions = classifier_new.predict(X_test_rep)# accuracy\n",
        "a = np.hstack((y_test, np.zeros((y_test.shape[0], 1 ))  ))\n",
        "print(\"Accuracy = \",accuracy_score(a,predictions.toarray()))\n",
        "correct = 0\n",
        "correct2 = 0\n",
        "for pred,true in zip(predictions, a):\n",
        "  cnt = 0\n",
        "  for j in range(20):\n",
        "    if pred[0,j]==true[j]:\n",
        "     correct+=1\n",
        "     cnt += 1 \n",
        "\n",
        "  if cnt ==20:\n",
        "    correct2+=1\n",
        "\n",
        "\n",
        "print(correct/(y_test.shape[0]*y_test.shape[1]))\n",
        "print(correct2/(y_test.shape[0]))    \n",
        "# print(correct/(y_test.shape[0]*y_test.shape[1]))"
      ],
      "execution_count": null,
      "outputs": [
        {
          "output_type": "stream",
          "text": [
            "Accuracy =  0.025100401606425703\n",
            "0.889135489325724\n",
            "0.025100401606425703\n"
          ],
          "name": "stdout"
        }
      ]
    },
    {
      "cell_type": "markdown",
      "metadata": {
        "id": "v67uwWBdfmWX"
      },
      "source": [
        "##Classifier 6: DNN"
      ]
    },
    {
      "cell_type": "code",
      "metadata": {
        "id": "xZ982iROfxBR"
      },
      "source": [
        "from keras.models import Sequential\n",
        "from keras.layers.core import Activation, Dropout, Dense\n",
        "from keras.layers import Flatten, LSTM\n",
        "from keras.layers import GlobalMaxPooling1D\n",
        "from keras.models import Model\n",
        "from keras.layers.embeddings import Embedding\n",
        "from sklearn.model_selection import train_test_split\n",
        "from keras.preprocessing.text import Tokenizer\n",
        "from keras.layers import Input\n",
        "from keras.layers.merge import Concatenate"
      ],
      "execution_count": null,
      "outputs": []
    },
    {
      "cell_type": "code",
      "metadata": {
        "colab": {
          "base_uri": "https://localhost:8080/"
        },
        "id": "Sy2WY632fleM",
        "outputId": "5c177775-b1a2-414e-8d7d-367a22d83935"
      },
      "source": [
        "deep_inputs = Input(shape=(X_train_rep.shape[1],))\n",
        "# x = Dense(256, activation='relu')(deep_inputs)\n",
        "# x = Dense(128, activation='relu')(deep_inputs)\n",
        "output = Dense(20, activation='sigmoid')(deep_inputs)\n",
        "nn_model = Model(inputs=deep_inputs, outputs=output, name = \"model_5\")\n",
        "nn_model.compile(loss='binary_crossentropy', optimizer='adam', metrics=['acc'])\n",
        "\n",
        "print(nn_model.summary())"
      ],
      "execution_count": null,
      "outputs": [
        {
          "output_type": "stream",
          "text": [
            "Model: \"model_5\"\n",
            "_________________________________________________________________\n",
            "Layer (type)                 Output Shape              Param #   \n",
            "=================================================================\n",
            "input_2 (InputLayer)         [(None, 300)]             0         \n",
            "_________________________________________________________________\n",
            "dense_1 (Dense)              (None, 20)                6020      \n",
            "=================================================================\n",
            "Total params: 6,020\n",
            "Trainable params: 6,020\n",
            "Non-trainable params: 0\n",
            "_________________________________________________________________\n",
            "None\n"
          ],
          "name": "stdout"
        }
      ]
    },
    {
      "cell_type": "code",
      "metadata": {
        "colab": {
          "base_uri": "https://localhost:8080/"
        },
        "id": "SU8XIqb9gZ1_",
        "outputId": "83e66da8-1031-40c8-c3db-4779da790ad3"
      },
      "source": [
        "# history = nn_model.fit(X_train_rep.toarray(), y_train, batch_size=128, epochs=100)\n",
        "history = nn_model.fit(X_train_rep, y_train, batch_size=128, epochs=100)"
      ],
      "execution_count": null,
      "outputs": [
        {
          "output_type": "stream",
          "text": [
            "Epoch 1/100\n",
            "16/16 [==============================] - 1s 2ms/step - loss: 0.6754 - acc: 0.0489\n",
            "Epoch 2/100\n",
            "16/16 [==============================] - 0s 2ms/step - loss: 0.6102 - acc: 0.3438\n",
            "Epoch 3/100\n",
            "16/16 [==============================] - 0s 2ms/step - loss: 0.5561 - acc: 0.3730\n",
            "Epoch 4/100\n",
            "16/16 [==============================] - 0s 2ms/step - loss: 0.5105 - acc: 0.3792\n",
            "Epoch 5/100\n",
            "16/16 [==============================] - 0s 2ms/step - loss: 0.4753 - acc: 0.4162\n",
            "Epoch 6/100\n",
            "16/16 [==============================] - 0s 2ms/step - loss: 0.4443 - acc: 0.3816\n",
            "Epoch 7/100\n",
            "16/16 [==============================] - 0s 3ms/step - loss: 0.4233 - acc: 0.3648\n",
            "Epoch 8/100\n",
            "16/16 [==============================] - 0s 2ms/step - loss: 0.4020 - acc: 0.4198\n",
            "Epoch 9/100\n",
            "16/16 [==============================] - 0s 3ms/step - loss: 0.3856 - acc: 0.3962\n",
            "Epoch 10/100\n",
            "16/16 [==============================] - 0s 2ms/step - loss: 0.3721 - acc: 0.3946\n",
            "Epoch 11/100\n",
            "16/16 [==============================] - 0s 2ms/step - loss: 0.3644 - acc: 0.4013\n",
            "Epoch 12/100\n",
            "16/16 [==============================] - 0s 2ms/step - loss: 0.3532 - acc: 0.3901\n",
            "Epoch 13/100\n",
            "16/16 [==============================] - 0s 2ms/step - loss: 0.3450 - acc: 0.4036\n",
            "Epoch 14/100\n",
            "16/16 [==============================] - 0s 3ms/step - loss: 0.3390 - acc: 0.4020\n",
            "Epoch 15/100\n",
            "16/16 [==============================] - 0s 2ms/step - loss: 0.3337 - acc: 0.3856\n",
            "Epoch 16/100\n",
            "16/16 [==============================] - 0s 2ms/step - loss: 0.3286 - acc: 0.4100\n",
            "Epoch 17/100\n",
            "16/16 [==============================] - 0s 2ms/step - loss: 0.3260 - acc: 0.4017\n",
            "Epoch 18/100\n",
            "16/16 [==============================] - 0s 2ms/step - loss: 0.3174 - acc: 0.4078\n",
            "Epoch 19/100\n",
            "16/16 [==============================] - 0s 2ms/step - loss: 0.3174 - acc: 0.4028\n",
            "Epoch 20/100\n",
            "16/16 [==============================] - 0s 2ms/step - loss: 0.3154 - acc: 0.4179\n",
            "Epoch 21/100\n",
            "16/16 [==============================] - 0s 2ms/step - loss: 0.3097 - acc: 0.4180\n",
            "Epoch 22/100\n",
            "16/16 [==============================] - 0s 2ms/step - loss: 0.3114 - acc: 0.4207\n",
            "Epoch 23/100\n",
            "16/16 [==============================] - 0s 2ms/step - loss: 0.3080 - acc: 0.4137\n",
            "Epoch 24/100\n",
            "16/16 [==============================] - 0s 2ms/step - loss: 0.3037 - acc: 0.4447\n",
            "Epoch 25/100\n",
            "16/16 [==============================] - 0s 2ms/step - loss: 0.3026 - acc: 0.4345\n",
            "Epoch 26/100\n",
            "16/16 [==============================] - 0s 2ms/step - loss: 0.2994 - acc: 0.4425\n",
            "Epoch 27/100\n",
            "16/16 [==============================] - 0s 2ms/step - loss: 0.2986 - acc: 0.4405\n",
            "Epoch 28/100\n",
            "16/16 [==============================] - 0s 2ms/step - loss: 0.2961 - acc: 0.4365\n",
            "Epoch 29/100\n",
            "16/16 [==============================] - 0s 2ms/step - loss: 0.2968 - acc: 0.4523\n",
            "Epoch 30/100\n",
            "16/16 [==============================] - 0s 2ms/step - loss: 0.2940 - acc: 0.4475\n",
            "Epoch 31/100\n",
            "16/16 [==============================] - 0s 3ms/step - loss: 0.2948 - acc: 0.4496\n",
            "Epoch 32/100\n",
            "16/16 [==============================] - 0s 2ms/step - loss: 0.2956 - acc: 0.4633\n",
            "Epoch 33/100\n",
            "16/16 [==============================] - 0s 2ms/step - loss: 0.2879 - acc: 0.4829\n",
            "Epoch 34/100\n",
            "16/16 [==============================] - 0s 3ms/step - loss: 0.2914 - acc: 0.4531\n",
            "Epoch 35/100\n",
            "16/16 [==============================] - 0s 2ms/step - loss: 0.2877 - acc: 0.4723\n",
            "Epoch 36/100\n",
            "16/16 [==============================] - 0s 2ms/step - loss: 0.2831 - acc: 0.4843\n",
            "Epoch 37/100\n",
            "16/16 [==============================] - 0s 2ms/step - loss: 0.2847 - acc: 0.4770\n",
            "Epoch 38/100\n",
            "16/16 [==============================] - 0s 2ms/step - loss: 0.2841 - acc: 0.4754\n",
            "Epoch 39/100\n",
            "16/16 [==============================] - 0s 2ms/step - loss: 0.2799 - acc: 0.4860\n",
            "Epoch 40/100\n",
            "16/16 [==============================] - 0s 2ms/step - loss: 0.2845 - acc: 0.4796\n",
            "Epoch 41/100\n",
            "16/16 [==============================] - 0s 2ms/step - loss: 0.2839 - acc: 0.4813\n",
            "Epoch 42/100\n",
            "16/16 [==============================] - 0s 2ms/step - loss: 0.2759 - acc: 0.4682\n",
            "Epoch 43/100\n",
            "16/16 [==============================] - 0s 2ms/step - loss: 0.2824 - acc: 0.4923\n",
            "Epoch 44/100\n",
            "16/16 [==============================] - 0s 2ms/step - loss: 0.2766 - acc: 0.4926\n",
            "Epoch 45/100\n",
            "16/16 [==============================] - 0s 2ms/step - loss: 0.2752 - acc: 0.5005\n",
            "Epoch 46/100\n",
            "16/16 [==============================] - 0s 2ms/step - loss: 0.2757 - acc: 0.4887\n",
            "Epoch 47/100\n",
            "16/16 [==============================] - 0s 2ms/step - loss: 0.2733 - acc: 0.4797\n",
            "Epoch 48/100\n",
            "16/16 [==============================] - 0s 2ms/step - loss: 0.2766 - acc: 0.4928\n",
            "Epoch 49/100\n",
            "16/16 [==============================] - 0s 2ms/step - loss: 0.2733 - acc: 0.4970\n",
            "Epoch 50/100\n",
            "16/16 [==============================] - 0s 2ms/step - loss: 0.2740 - acc: 0.4910\n",
            "Epoch 51/100\n",
            "16/16 [==============================] - 0s 2ms/step - loss: 0.2714 - acc: 0.4734\n",
            "Epoch 52/100\n",
            "16/16 [==============================] - 0s 2ms/step - loss: 0.2738 - acc: 0.4923\n",
            "Epoch 53/100\n",
            "16/16 [==============================] - 0s 3ms/step - loss: 0.2694 - acc: 0.4963\n",
            "Epoch 54/100\n",
            "16/16 [==============================] - 0s 2ms/step - loss: 0.2670 - acc: 0.4911\n",
            "Epoch 55/100\n",
            "16/16 [==============================] - 0s 2ms/step - loss: 0.2660 - acc: 0.5115\n",
            "Epoch 56/100\n",
            "16/16 [==============================] - 0s 2ms/step - loss: 0.2654 - acc: 0.4951\n",
            "Epoch 57/100\n",
            "16/16 [==============================] - 0s 2ms/step - loss: 0.2701 - acc: 0.4935\n",
            "Epoch 58/100\n",
            "16/16 [==============================] - 0s 2ms/step - loss: 0.2712 - acc: 0.5103\n",
            "Epoch 59/100\n",
            "16/16 [==============================] - 0s 2ms/step - loss: 0.2691 - acc: 0.4941\n",
            "Epoch 60/100\n",
            "16/16 [==============================] - 0s 2ms/step - loss: 0.2658 - acc: 0.5204\n",
            "Epoch 61/100\n",
            "16/16 [==============================] - 0s 2ms/step - loss: 0.2678 - acc: 0.5037\n",
            "Epoch 62/100\n",
            "16/16 [==============================] - 0s 2ms/step - loss: 0.2662 - acc: 0.4946\n",
            "Epoch 63/100\n",
            "16/16 [==============================] - 0s 3ms/step - loss: 0.2664 - acc: 0.4951\n",
            "Epoch 64/100\n",
            "16/16 [==============================] - 0s 2ms/step - loss: 0.2633 - acc: 0.5097\n",
            "Epoch 65/100\n",
            "16/16 [==============================] - 0s 2ms/step - loss: 0.2636 - acc: 0.5080\n",
            "Epoch 66/100\n",
            "16/16 [==============================] - 0s 2ms/step - loss: 0.2617 - acc: 0.5216\n",
            "Epoch 67/100\n",
            "16/16 [==============================] - 0s 2ms/step - loss: 0.2604 - acc: 0.5007\n",
            "Epoch 68/100\n",
            "16/16 [==============================] - 0s 2ms/step - loss: 0.2607 - acc: 0.5095\n",
            "Epoch 69/100\n",
            "16/16 [==============================] - 0s 2ms/step - loss: 0.2593 - acc: 0.5121\n",
            "Epoch 70/100\n",
            "16/16 [==============================] - 0s 2ms/step - loss: 0.2611 - acc: 0.5013\n",
            "Epoch 71/100\n",
            "16/16 [==============================] - 0s 2ms/step - loss: 0.2590 - acc: 0.5016\n",
            "Epoch 72/100\n",
            "16/16 [==============================] - 0s 2ms/step - loss: 0.2580 - acc: 0.5055\n",
            "Epoch 73/100\n",
            "16/16 [==============================] - 0s 2ms/step - loss: 0.2551 - acc: 0.5134\n",
            "Epoch 74/100\n",
            "16/16 [==============================] - 0s 2ms/step - loss: 0.2574 - acc: 0.4945\n",
            "Epoch 75/100\n",
            "16/16 [==============================] - 0s 2ms/step - loss: 0.2543 - acc: 0.5183\n",
            "Epoch 76/100\n",
            "16/16 [==============================] - 0s 2ms/step - loss: 0.2522 - acc: 0.4937\n",
            "Epoch 77/100\n",
            "16/16 [==============================] - 0s 2ms/step - loss: 0.2599 - acc: 0.4860\n",
            "Epoch 78/100\n",
            "16/16 [==============================] - 0s 2ms/step - loss: 0.2540 - acc: 0.5087\n",
            "Epoch 79/100\n",
            "16/16 [==============================] - 0s 3ms/step - loss: 0.2518 - acc: 0.5100\n",
            "Epoch 80/100\n",
            "16/16 [==============================] - 0s 2ms/step - loss: 0.2521 - acc: 0.5061\n",
            "Epoch 81/100\n",
            "16/16 [==============================] - 0s 2ms/step - loss: 0.2534 - acc: 0.5239\n",
            "Epoch 82/100\n",
            "16/16 [==============================] - 0s 3ms/step - loss: 0.2535 - acc: 0.5076\n",
            "Epoch 83/100\n",
            "16/16 [==============================] - 0s 2ms/step - loss: 0.2513 - acc: 0.5027\n",
            "Epoch 84/100\n",
            "16/16 [==============================] - 0s 2ms/step - loss: 0.2534 - acc: 0.5295\n",
            "Epoch 85/100\n",
            "16/16 [==============================] - 0s 2ms/step - loss: 0.2536 - acc: 0.5088\n",
            "Epoch 86/100\n",
            "16/16 [==============================] - 0s 2ms/step - loss: 0.2481 - acc: 0.5207\n",
            "Epoch 87/100\n",
            "16/16 [==============================] - 0s 2ms/step - loss: 0.2510 - acc: 0.5210\n",
            "Epoch 88/100\n",
            "16/16 [==============================] - 0s 2ms/step - loss: 0.2510 - acc: 0.4977\n",
            "Epoch 89/100\n",
            "16/16 [==============================] - 0s 2ms/step - loss: 0.2481 - acc: 0.5026\n",
            "Epoch 90/100\n",
            "16/16 [==============================] - 0s 2ms/step - loss: 0.2543 - acc: 0.5114\n",
            "Epoch 91/100\n",
            "16/16 [==============================] - 0s 2ms/step - loss: 0.2484 - acc: 0.4993\n",
            "Epoch 92/100\n",
            "16/16 [==============================] - 0s 2ms/step - loss: 0.2515 - acc: 0.4996\n",
            "Epoch 93/100\n",
            "16/16 [==============================] - 0s 2ms/step - loss: 0.2441 - acc: 0.5142\n",
            "Epoch 94/100\n",
            "16/16 [==============================] - 0s 4ms/step - loss: 0.2490 - acc: 0.5096\n",
            "Epoch 95/100\n",
            "16/16 [==============================] - 0s 2ms/step - loss: 0.2476 - acc: 0.5000\n",
            "Epoch 96/100\n",
            "16/16 [==============================] - 0s 2ms/step - loss: 0.2475 - acc: 0.5142\n",
            "Epoch 97/100\n",
            "16/16 [==============================] - 0s 2ms/step - loss: 0.2474 - acc: 0.5067\n",
            "Epoch 98/100\n",
            "16/16 [==============================] - 0s 2ms/step - loss: 0.2455 - acc: 0.5145\n",
            "Epoch 99/100\n",
            "16/16 [==============================] - 0s 2ms/step - loss: 0.2433 - acc: 0.5011\n",
            "Epoch 100/100\n",
            "16/16 [==============================] - 0s 2ms/step - loss: 0.2420 - acc: 0.5091\n"
          ],
          "name": "stdout"
        }
      ]
    },
    {
      "cell_type": "code",
      "metadata": {
        "colab": {
          "base_uri": "https://localhost:8080/"
        },
        "id": "2NaOom4MgnM4",
        "outputId": "67164e9d-39d6-4f38-eff8-c2a0ae50c8b4"
      },
      "source": [
        "\n",
        "predictions = nn_model.predict(X_test_rep)\n",
        "# predictions = nn_model.predict(X_test_rep)\n",
        "\n",
        "\n",
        "a = np.hstack((y_test, np.zeros((y_test.shape[0], 1 ))  ))\n",
        "# print(\"Accuracy = \",accuracy_score(a,predictions.toarray()))\n",
        "correct = 0\n",
        "results_dict = {}\n",
        "for j in range(20):\n",
        "  results_dict[j] = 0\n",
        "\n",
        "correct2 = 0\n",
        "\n",
        "for pred,true in zip(predictions, a):\n",
        "  temp = np.zeros((20))\n",
        "  for j in range(20):\n",
        "    if pred[j]>=0.5:\n",
        "      temp[j] = 1\n",
        "    else:\n",
        "      temp[j] = 0\n",
        "    \n",
        "    if temp[j]==true[j]:\n",
        "     correct+=1\n",
        "     results_dict[j] = results_dict[j] + 1\n",
        "  # print(temp)\n",
        "  if np.array_equal(temp,true):\n",
        "    correct2 += 1\n",
        "\n",
        "\n",
        "print(correct/(y_test.shape[0]*y_test.shape[1]))\n",
        "print(correct2/(y_test.shape[0]))\n",
        "\n",
        "\n",
        "score = nn_model.evaluate(X_test_rep, a)\n",
        "print(\"Test Score:\", score[0])\n",
        "print(\"Test Accuracy:\", score[1])\n",
        "\n",
        "# for j in range(20):\n",
        "#   print(results_dict[j]/y_test.shape[0])"
      ],
      "execution_count": null,
      "outputs": [
        {
          "output_type": "stream",
          "text": [
            "0.906573663073346\n",
            "0.030120481927710843\n",
            "32/32 [==============================] - 0s 2ms/step - loss: 0.3699 - acc: 0.2490\n",
            "Test Score: 0.36986243724823\n",
            "Test Accuracy: 0.24899598956108093\n"
          ],
          "name": "stdout"
        }
      ]
    },
    {
      "cell_type": "code",
      "metadata": {
        "id": "2wK-yzaZCfO6"
      },
      "source": [
        "from sklearn.metrics import accuracy_score"
      ],
      "execution_count": null,
      "outputs": []
    },
    {
      "cell_type": "code",
      "metadata": {
        "id": "BtY3g65jgsyU",
        "colab": {
          "base_uri": "https://localhost:8080/"
        },
        "outputId": "b3495427-57c5-4608-e544-c5759544479e"
      },
      "source": [
        "preds = np.zeros(predictions.shape)\n",
        "for index,true in enumerate(predictions):\n",
        "  for j in range(20):\n",
        "    if true[j]>0.5:\n",
        "      preds[index][j] = 1\n",
        "    else:\n",
        "      preds[index][j] = 0\n",
        "\n",
        "from sklearn.metrics import accuracy_score\n",
        "print(accuracy_score(preds , a))"
      ],
      "execution_count": null,
      "outputs": [
        {
          "output_type": "stream",
          "text": [
            "[0. 0. 0. 0. 0. 0. 0. 0. 0. 0. 0. 0. 0. 0. 0. 0. 0. 0. 0. 0.]\n",
            "[0. 0. 0. 0. 0. 0. 0. 1. 1. 0. 0. 0. 0. 0. 0. 0. 0. 0. 0. 0.]\n",
            "0.030120481927710843\n"
          ],
          "name": "stdout"
        }
      ]
    },
    {
      "cell_type": "markdown",
      "metadata": {
        "id": "aynLShWb58Xq"
      },
      "source": [
        "##Classifier 7: SVM\n"
      ]
    },
    {
      "cell_type": "code",
      "metadata": {
        "id": "R6uq1ew-7qJa"
      },
      "source": [
        "from sklearn.svm import LinearSVC\n",
        "from sklearn.multioutput import MultiOutputClassifier"
      ],
      "execution_count": null,
      "outputs": []
    },
    {
      "cell_type": "code",
      "metadata": {
        "id": "nU-31ZG26Czu"
      },
      "source": [
        "svm = LinearSVC(random_state=42)\n",
        "multilabel_classifier = MultiOutputClassifier(svm, n_jobs=-1)\n",
        "multilabel_classifier = multilabel_classifier.fit(X_train_rep, y_train)\n"
      ],
      "execution_count": null,
      "outputs": []
    },
    {
      "cell_type": "code",
      "metadata": {
        "colab": {
          "base_uri": "https://localhost:8080/"
        },
        "id": "U_DtlXuV7WBp",
        "outputId": "125fda0c-8651-41a7-9abb-a3c7af783c6f"
      },
      "source": [
        "\n",
        "predictions = multilabel_classifier.predict(X_test_rep)\n",
        "\n",
        "a = np.hstack((y_test, np.zeros((y_test.shape[0], 1 ))  ))\n",
        "# print(\"Accuracy = \",accuracy_score(a,predictions.toarray()))\n",
        "correct = 0\n",
        "correct_2 = 0\n",
        "for pred,true in zip(predictions, a):\n",
        "  for j in range(20):\n",
        "    if pred[j]==true[j]:\n",
        "     correct+=1\n",
        "     \n",
        "    if np.array_equal(pred,true):\n",
        "      correct_2 += 1\n",
        "\n",
        "\n",
        "print(correct/(y_test.shape[0]*y_test.shape[1]))\n",
        "print(correct_2/(y_test.shape[0]))\n",
        "\n",
        "\n",
        "\n",
        "# for j in range(20):\n",
        "#   print(\"%f\" % (results_dict[j]/y_test.shape[0]))"
      ],
      "execution_count": null,
      "outputs": [
        {
          "output_type": "stream",
          "text": [
            "0.8962692876770239\n",
            "0.40160642570281124\n"
          ],
          "name": "stdout"
        }
      ]
    },
    {
      "cell_type": "code",
      "metadata": {
        "id": "BVuWwN_h7uyY"
      },
      "source": [],
      "execution_count": null,
      "outputs": []
    }
  ]
}